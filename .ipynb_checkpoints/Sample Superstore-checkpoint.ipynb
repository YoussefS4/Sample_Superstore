{
 "cells": [
  {
   "cell_type": "markdown",
   "id": "5aefe378",
   "metadata": {},
   "source": [
    "# Project:  Sample Superstore\n",
    "\n"
   ]
  },
  {
   "cell_type": "markdown",
   "id": "dfd747b6",
   "metadata": {},
   "source": [
    "## Author: Youssef Soultan"
   ]
  },
  {
   "cell_type": "markdown",
   "id": "fcd7bdc7",
   "metadata": {},
   "source": [
    "\n",
    "### Question for Analysis\n",
    "- What is the weak areas where you can work to make more profit? \n"
   ]
  },
  {
   "cell_type": "code",
   "execution_count": 172,
   "id": "81c8fd8b",
   "metadata": {},
   "outputs": [],
   "source": [
    "# import necessary libraries\n",
    "\n",
    "import pandas as pd\n",
    "import numpy as np\n",
    "import matplotlib.pyplot as plt\n",
    "%matplotlib inline"
   ]
  },
  {
   "cell_type": "markdown",
   "id": "8a90abb8",
   "metadata": {},
   "source": [
    "## Data Wrangling\n",
    "\n"
   ]
  },
  {
   "cell_type": "code",
   "execution_count": 173,
   "id": "a494f790",
   "metadata": {},
   "outputs": [
    {
     "data": {
      "text/html": [
       "<div>\n",
       "<style scoped>\n",
       "    .dataframe tbody tr th:only-of-type {\n",
       "        vertical-align: middle;\n",
       "    }\n",
       "\n",
       "    .dataframe tbody tr th {\n",
       "        vertical-align: top;\n",
       "    }\n",
       "\n",
       "    .dataframe thead th {\n",
       "        text-align: right;\n",
       "    }\n",
       "</style>\n",
       "<table border=\"1\" class=\"dataframe\">\n",
       "  <thead>\n",
       "    <tr style=\"text-align: right;\">\n",
       "      <th></th>\n",
       "      <th>Ship Mode</th>\n",
       "      <th>Segment</th>\n",
       "      <th>Country</th>\n",
       "      <th>City</th>\n",
       "      <th>State</th>\n",
       "      <th>Postal Code</th>\n",
       "      <th>Region</th>\n",
       "      <th>Category</th>\n",
       "      <th>Sub-Category</th>\n",
       "      <th>Sales</th>\n",
       "      <th>Quantity</th>\n",
       "      <th>Discount</th>\n",
       "      <th>Profit</th>\n",
       "    </tr>\n",
       "  </thead>\n",
       "  <tbody>\n",
       "    <tr>\n",
       "      <th>0</th>\n",
       "      <td>Second Class</td>\n",
       "      <td>Consumer</td>\n",
       "      <td>United States</td>\n",
       "      <td>Henderson</td>\n",
       "      <td>Kentucky</td>\n",
       "      <td>42420</td>\n",
       "      <td>South</td>\n",
       "      <td>Furniture</td>\n",
       "      <td>Bookcases</td>\n",
       "      <td>261.9600</td>\n",
       "      <td>2</td>\n",
       "      <td>0.00</td>\n",
       "      <td>41.9136</td>\n",
       "    </tr>\n",
       "    <tr>\n",
       "      <th>1</th>\n",
       "      <td>Second Class</td>\n",
       "      <td>Consumer</td>\n",
       "      <td>United States</td>\n",
       "      <td>Henderson</td>\n",
       "      <td>Kentucky</td>\n",
       "      <td>42420</td>\n",
       "      <td>South</td>\n",
       "      <td>Furniture</td>\n",
       "      <td>Chairs</td>\n",
       "      <td>731.9400</td>\n",
       "      <td>3</td>\n",
       "      <td>0.00</td>\n",
       "      <td>219.5820</td>\n",
       "    </tr>\n",
       "    <tr>\n",
       "      <th>2</th>\n",
       "      <td>Second Class</td>\n",
       "      <td>Corporate</td>\n",
       "      <td>United States</td>\n",
       "      <td>Los Angeles</td>\n",
       "      <td>California</td>\n",
       "      <td>90036</td>\n",
       "      <td>West</td>\n",
       "      <td>Office Supplies</td>\n",
       "      <td>Labels</td>\n",
       "      <td>14.6200</td>\n",
       "      <td>2</td>\n",
       "      <td>0.00</td>\n",
       "      <td>6.8714</td>\n",
       "    </tr>\n",
       "    <tr>\n",
       "      <th>3</th>\n",
       "      <td>Standard Class</td>\n",
       "      <td>Consumer</td>\n",
       "      <td>United States</td>\n",
       "      <td>Fort Lauderdale</td>\n",
       "      <td>Florida</td>\n",
       "      <td>33311</td>\n",
       "      <td>South</td>\n",
       "      <td>Furniture</td>\n",
       "      <td>Tables</td>\n",
       "      <td>957.5775</td>\n",
       "      <td>5</td>\n",
       "      <td>0.45</td>\n",
       "      <td>-383.0310</td>\n",
       "    </tr>\n",
       "    <tr>\n",
       "      <th>4</th>\n",
       "      <td>Standard Class</td>\n",
       "      <td>Consumer</td>\n",
       "      <td>United States</td>\n",
       "      <td>Fort Lauderdale</td>\n",
       "      <td>Florida</td>\n",
       "      <td>33311</td>\n",
       "      <td>South</td>\n",
       "      <td>Office Supplies</td>\n",
       "      <td>Storage</td>\n",
       "      <td>22.3680</td>\n",
       "      <td>2</td>\n",
       "      <td>0.20</td>\n",
       "      <td>2.5164</td>\n",
       "    </tr>\n",
       "  </tbody>\n",
       "</table>\n",
       "</div>"
      ],
      "text/plain": [
       "        Ship Mode    Segment        Country             City       State  \\\n",
       "0    Second Class   Consumer  United States        Henderson    Kentucky   \n",
       "1    Second Class   Consumer  United States        Henderson    Kentucky   \n",
       "2    Second Class  Corporate  United States      Los Angeles  California   \n",
       "3  Standard Class   Consumer  United States  Fort Lauderdale     Florida   \n",
       "4  Standard Class   Consumer  United States  Fort Lauderdale     Florida   \n",
       "\n",
       "   Postal Code Region         Category Sub-Category     Sales  Quantity  \\\n",
       "0        42420  South        Furniture    Bookcases  261.9600         2   \n",
       "1        42420  South        Furniture       Chairs  731.9400         3   \n",
       "2        90036   West  Office Supplies       Labels   14.6200         2   \n",
       "3        33311  South        Furniture       Tables  957.5775         5   \n",
       "4        33311  South  Office Supplies      Storage   22.3680         2   \n",
       "\n",
       "   Discount    Profit  \n",
       "0      0.00   41.9136  \n",
       "1      0.00  219.5820  \n",
       "2      0.00    6.8714  \n",
       "3      0.45 -383.0310  \n",
       "4      0.20    2.5164  "
      ]
     },
     "execution_count": 173,
     "metadata": {},
     "output_type": "execute_result"
    }
   ],
   "source": [
    "# Load Data\n",
    "\n",
    "df = pd.read_csv('SampleSuperstore.csv')\n",
    "df.head()"
   ]
  },
  {
   "cell_type": "code",
   "execution_count": 174,
   "id": "bfcdc64d",
   "metadata": {
    "scrolled": true
   },
   "outputs": [
    {
     "data": {
      "text/plain": [
       "(9994, 13)"
      ]
     },
     "execution_count": 174,
     "metadata": {},
     "output_type": "execute_result"
    }
   ],
   "source": [
    "df.shape"
   ]
  },
  {
   "cell_type": "markdown",
   "id": "c7ebecc0",
   "metadata": {},
   "source": [
    "- The data set has 9994 rows and 13 columns"
   ]
  },
  {
   "cell_type": "code",
   "execution_count": 225,
   "id": "769d5f48",
   "metadata": {
    "scrolled": true
   },
   "outputs": [
    {
     "name": "stdout",
     "output_type": "stream",
     "text": [
      "<class 'pandas.core.frame.DataFrame'>\n",
      "Int64Index: 9977 entries, 0 to 9993\n",
      "Data columns (total 13 columns):\n",
      " #   Column        Non-Null Count  Dtype  \n",
      "---  ------        --------------  -----  \n",
      " 0   ship_mode     9977 non-null   object \n",
      " 1   segment       9977 non-null   object \n",
      " 2   country       9977 non-null   object \n",
      " 3   city          9977 non-null   object \n",
      " 4   state         9977 non-null   object \n",
      " 5   postal_code   9977 non-null   int64  \n",
      " 6   region        9977 non-null   object \n",
      " 7   category      9977 non-null   object \n",
      " 8   sub_category  9977 non-null   object \n",
      " 9   sales         9977 non-null   float64\n",
      " 10  quantity      9977 non-null   int64  \n",
      " 11  discount      9977 non-null   float64\n",
      " 12  profit        9977 non-null   float64\n",
      "dtypes: float64(3), int64(2), object(8)\n",
      "memory usage: 1.1+ MB\n"
     ]
    }
   ],
   "source": [
    "# Information about the dataset\n",
    "df.info()"
   ]
  },
  {
   "cell_type": "code",
   "execution_count": 176,
   "id": "85eaef20",
   "metadata": {},
   "outputs": [
    {
     "data": {
      "text/plain": [
       "17"
      ]
     },
     "execution_count": 176,
     "metadata": {},
     "output_type": "execute_result"
    }
   ],
   "source": [
    "#check for duplicates\n",
    "\n",
    "sum(df.duplicated())"
   ]
  },
  {
   "cell_type": "markdown",
   "id": "eec90222",
   "metadata": {},
   "source": [
    "- There is 17 duplicated values so we will remove them."
   ]
  },
  {
   "cell_type": "code",
   "execution_count": 177,
   "id": "6d3740cd",
   "metadata": {},
   "outputs": [
    {
     "data": {
      "text/plain": [
       "Ship Mode       0\n",
       "Segment         0\n",
       "Country         0\n",
       "City            0\n",
       "State           0\n",
       "Postal Code     0\n",
       "Region          0\n",
       "Category        0\n",
       "Sub-Category    0\n",
       "Sales           0\n",
       "Quantity        0\n",
       "Discount        0\n",
       "Profit          0\n",
       "dtype: int64"
      ]
     },
     "execution_count": 177,
     "metadata": {},
     "output_type": "execute_result"
    }
   ],
   "source": [
    "#check for null values\n",
    "\n",
    "df.isnull().sum()"
   ]
  },
  {
   "cell_type": "markdown",
   "id": "78685bb7",
   "metadata": {},
   "source": [
    "- There is no missing values."
   ]
  },
  {
   "cell_type": "code",
   "execution_count": 14,
   "id": "1f5ae770",
   "metadata": {
    "scrolled": true
   },
   "outputs": [
    {
     "data": {
      "text/html": [
       "<div>\n",
       "<style scoped>\n",
       "    .dataframe tbody tr th:only-of-type {\n",
       "        vertical-align: middle;\n",
       "    }\n",
       "\n",
       "    .dataframe tbody tr th {\n",
       "        vertical-align: top;\n",
       "    }\n",
       "\n",
       "    .dataframe thead th {\n",
       "        text-align: right;\n",
       "    }\n",
       "</style>\n",
       "<table border=\"1\" class=\"dataframe\">\n",
       "  <thead>\n",
       "    <tr style=\"text-align: right;\">\n",
       "      <th></th>\n",
       "      <th>Postal Code</th>\n",
       "      <th>Sales</th>\n",
       "      <th>Quantity</th>\n",
       "      <th>Discount</th>\n",
       "      <th>Profit</th>\n",
       "    </tr>\n",
       "  </thead>\n",
       "  <tbody>\n",
       "    <tr>\n",
       "      <th>count</th>\n",
       "      <td>9994.000000</td>\n",
       "      <td>9994.000000</td>\n",
       "      <td>9994.000000</td>\n",
       "      <td>9994.000000</td>\n",
       "      <td>9994.000000</td>\n",
       "    </tr>\n",
       "    <tr>\n",
       "      <th>mean</th>\n",
       "      <td>55190.379428</td>\n",
       "      <td>229.858001</td>\n",
       "      <td>3.789574</td>\n",
       "      <td>0.156203</td>\n",
       "      <td>28.656896</td>\n",
       "    </tr>\n",
       "    <tr>\n",
       "      <th>std</th>\n",
       "      <td>32063.693350</td>\n",
       "      <td>623.245101</td>\n",
       "      <td>2.225110</td>\n",
       "      <td>0.206452</td>\n",
       "      <td>234.260108</td>\n",
       "    </tr>\n",
       "    <tr>\n",
       "      <th>min</th>\n",
       "      <td>1040.000000</td>\n",
       "      <td>0.444000</td>\n",
       "      <td>1.000000</td>\n",
       "      <td>0.000000</td>\n",
       "      <td>-6599.978000</td>\n",
       "    </tr>\n",
       "    <tr>\n",
       "      <th>25%</th>\n",
       "      <td>23223.000000</td>\n",
       "      <td>17.280000</td>\n",
       "      <td>2.000000</td>\n",
       "      <td>0.000000</td>\n",
       "      <td>1.728750</td>\n",
       "    </tr>\n",
       "    <tr>\n",
       "      <th>50%</th>\n",
       "      <td>56430.500000</td>\n",
       "      <td>54.490000</td>\n",
       "      <td>3.000000</td>\n",
       "      <td>0.200000</td>\n",
       "      <td>8.666500</td>\n",
       "    </tr>\n",
       "    <tr>\n",
       "      <th>75%</th>\n",
       "      <td>90008.000000</td>\n",
       "      <td>209.940000</td>\n",
       "      <td>5.000000</td>\n",
       "      <td>0.200000</td>\n",
       "      <td>29.364000</td>\n",
       "    </tr>\n",
       "    <tr>\n",
       "      <th>max</th>\n",
       "      <td>99301.000000</td>\n",
       "      <td>22638.480000</td>\n",
       "      <td>14.000000</td>\n",
       "      <td>0.800000</td>\n",
       "      <td>8399.976000</td>\n",
       "    </tr>\n",
       "  </tbody>\n",
       "</table>\n",
       "</div>"
      ],
      "text/plain": [
       "        Postal Code         Sales     Quantity     Discount       Profit\n",
       "count   9994.000000   9994.000000  9994.000000  9994.000000  9994.000000\n",
       "mean   55190.379428    229.858001     3.789574     0.156203    28.656896\n",
       "std    32063.693350    623.245101     2.225110     0.206452   234.260108\n",
       "min     1040.000000      0.444000     1.000000     0.000000 -6599.978000\n",
       "25%    23223.000000     17.280000     2.000000     0.000000     1.728750\n",
       "50%    56430.500000     54.490000     3.000000     0.200000     8.666500\n",
       "75%    90008.000000    209.940000     5.000000     0.200000    29.364000\n",
       "max    99301.000000  22638.480000    14.000000     0.800000  8399.976000"
      ]
     },
     "execution_count": 14,
     "metadata": {},
     "output_type": "execute_result"
    }
   ],
   "source": [
    "# Statistical information\n",
    "\n",
    "df.describe()"
   ]
  },
  {
   "cell_type": "code",
   "execution_count": 123,
   "id": "d8cf24ca",
   "metadata": {
    "scrolled": true
   },
   "outputs": [
    {
     "data": {
      "text/plain": [
       "ship_mode          4\n",
       "segment            3\n",
       "country            1\n",
       "city             531\n",
       "state             49\n",
       "postal_code      631\n",
       "region             4\n",
       "category           3\n",
       "sub_category      17\n",
       "sales           5825\n",
       "quantity          14\n",
       "discount          12\n",
       "profit          7287\n",
       "dtype: int64"
      ]
     },
     "execution_count": 123,
     "metadata": {},
     "output_type": "execute_result"
    }
   ],
   "source": [
    "# Unique number of rows in each column.\n",
    "\n",
    "df.nunique()"
   ]
  },
  {
   "cell_type": "markdown",
   "id": "f1c3c5ed",
   "metadata": {},
   "source": [
    "- There is only one country so we can remove it."
   ]
  },
  {
   "cell_type": "markdown",
   "id": "c890bb32",
   "metadata": {},
   "source": [
    "## Data Cleaning"
   ]
  },
  {
   "cell_type": "code",
   "execution_count": 179,
   "id": "40160d15",
   "metadata": {},
   "outputs": [],
   "source": [
    "# make cloumns names to lowercase\n",
    "\n",
    "df.rename(columns = lambda x : x.lower(),inplace = True)"
   ]
  },
  {
   "cell_type": "code",
   "execution_count": 181,
   "id": "97718c73",
   "metadata": {},
   "outputs": [],
   "source": [
    "df.rename(columns = {'sub-category' : 'sub_category','postal code' : 'postal_code','ship mode' : 'ship_mode'},inplace = True)"
   ]
  },
  {
   "cell_type": "code",
   "execution_count": 183,
   "id": "0efe3e89",
   "metadata": {
    "scrolled": true
   },
   "outputs": [
    {
     "data": {
      "text/plain": [
       "0"
      ]
     },
     "execution_count": 183,
     "metadata": {},
     "output_type": "execute_result"
    }
   ],
   "source": [
    "# Removing Duplicates\n",
    "\n",
    "df.drop_duplicates(inplace = True)\n",
    "sum(df.duplicated())"
   ]
  },
  {
   "cell_type": "markdown",
   "id": "3617a2d3",
   "metadata": {},
   "source": [
    "- There is no duplicates now."
   ]
  },
  {
   "cell_type": "markdown",
   "id": "1f1852ae",
   "metadata": {},
   "source": [
    "## Data Visualization "
   ]
  },
  {
   "cell_type": "code",
   "execution_count": 121,
   "id": "88b99c5a",
   "metadata": {
    "scrolled": true
   },
   "outputs": [
    {
     "data": {
      "image/png": "[encoded data removed]",
      "text/plain": [
       "<Figure size 432x288 with 1 Axes>"
      ]
     },
     "metadata": {
      "needs_background": "light"
     },
     "output_type": "display_data"
    }
   ],
   "source": [
    "plt.title('Relation between sales and profit')\n",
    "x = df['sales']\n",
    "y = df['profit']\n",
    "plt.scatter(x , y)\n",
    "plt.xlabel('Sales')\n",
    "plt.ylabel('Profit');"
   ]
  },
  {
   "cell_type": "markdown",
   "id": "c2011134",
   "metadata": {},
   "source": [
    "- As we see here Profit is highly correlated with Sales"
   ]
  },
  {
   "cell_type": "markdown",
   "id": "0045af9d",
   "metadata": {},
   "source": [
    "## Sales and Profit Analysis among Region"
   ]
  },
  {
   "cell_type": "code",
   "execution_count": 169,
   "id": "e7fd7e86",
   "metadata": {},
   "outputs": [
    {
     "data": {
      "image/png": "[encoded data removed]",
      "text/plain": [
       "<Figure size 432x288 with 1 Axes>"
      ]
     },
     "metadata": {
      "needs_background": "light"
     },
     "output_type": "display_data"
    }
   ],
   "source": [
    "df.groupby('region').sum()[['sales','profit']].plot(kind = 'bar',alpha = 0.6);"
   ]
  },
  {
   "cell_type": "markdown",
   "id": "bd56701c",
   "metadata": {},
   "source": [
    "- The most region for sales and profit is West region.\n",
    "- The lowest sales region is South region\n",
    "- The lowest profit region is Central region"
   ]
  },
  {
   "cell_type": "markdown",
   "id": "ddb2cb7c",
   "metadata": {},
   "source": [
    "## Sales and Profit Analysis among States"
   ]
  },
  {
   "cell_type": "code",
   "execution_count": 202,
   "id": "c82cddda",
   "metadata": {
    "scrolled": true
   },
   "outputs": [
    {
     "data": {
      "image/png": "[encoded data removed]",
      "text/plain": [
       "<Figure size 432x288 with 1 Axes>"
      ]
     },
     "metadata": {
      "needs_background": "light"
     },
     "output_type": "display_data"
    }
   ],
   "source": [
    "df.groupby('state').sum()['profit'].sort_values(ascending= False)[:10].plot(kind = 'bar',color = 'green',alpha = 0.6);\n",
    "plt.title ('Top 10 most profitable states')\n",
    "plt.xlabel('States')\n",
    "plt.ylabel('Profit');"
   ]
  },
  {
   "cell_type": "markdown",
   "id": "dde9fce0",
   "metadata": {},
   "source": [
    "- The most profitable states is California and New York."
   ]
  },
  {
   "cell_type": "code",
   "execution_count": 201,
   "id": "5ee6cc0c",
   "metadata": {
    "scrolled": false
   },
   "outputs": [
    {
     "data": {
      "image/png": "[encoded data removed]",
      "text/plain": [
       "<Figure size 432x288 with 1 Axes>"
      ]
     },
     "metadata": {
      "needs_background": "light"
     },
     "output_type": "display_data"
    }
   ],
   "source": [
    "df.groupby('state').sum()['profit'].sort_values(ascending= True)[:10].plot(kind = 'bar',color = 'red',alpha = 0.6)\n",
    "plt.title ('The 10 lowest profit states')\n",
    "plt.xlabel('States')\n",
    "plt.ylabel('Profit');"
   ]
  },
  {
   "cell_type": "markdown",
   "id": "863c7965",
   "metadata": {},
   "source": [
    "- These are the weak states where the company must work to make more profit."
   ]
  },
  {
   "cell_type": "code",
   "execution_count": 206,
   "id": "654793b1",
   "metadata": {
    "scrolled": true
   },
   "outputs": [
    {
     "data": {
      "image/png": "[encoded data removed]",
      "text/plain": [
       "<Figure size 432x288 with 1 Axes>"
      ]
     },
     "metadata": {
      "needs_background": "light"
     },
     "output_type": "display_data"
    }
   ],
   "source": [
    "df.groupby('state').sum()['sales'].sort_values(ascending= False)[:10].plot(kind = 'bar',color = 'green' ,alpha = 0.6)\n",
    "plt.title ('Top 10 Sales States')\n",
    "plt.xlabel('States')\n",
    "plt.ylabel('Profit');"
   ]
  },
  {
   "cell_type": "markdown",
   "id": "c77d81a4",
   "metadata": {},
   "source": [
    "- The most sales state is California"
   ]
  },
  {
   "cell_type": "code",
   "execution_count": 224,
   "id": "67423188",
   "metadata": {
    "scrolled": false
   },
   "outputs": [
    {
     "data": {
      "image/png": "[encoded data removed]",
      "text/plain": [
       "<Figure size 432x288 with 1 Axes>"
      ]
     },
     "metadata": {
      "needs_background": "light"
     },
     "output_type": "display_data"
    }
   ],
   "source": [
    "df.groupby('state').sum()['sales'].sort_values(ascending= True)[:10].plot(kind = 'bar', color = 'red', alpha = 0.6)\n",
    "plt.title ('The 10 lowest sales states')\n",
    "plt.xlabel('States')\n",
    "plt.ylabel('Profit');"
   ]
  },
  {
   "cell_type": "markdown",
   "id": "674d36ee",
   "metadata": {},
   "source": [
    "- These are the weak states for sales where the company must work to make more sales."
   ]
  },
  {
   "cell_type": "markdown",
   "id": "af07b7ec",
   "metadata": {},
   "source": [
    "## Sales and Profit Analysis among Cities"
   ]
  },
  {
   "cell_type": "code",
   "execution_count": 209,
   "id": "9e22c3d3",
   "metadata": {},
   "outputs": [
    {
     "data": {
      "image/png": "[encoded data removed]",
      "text/plain": [
       "<Figure size 432x288 with 1 Axes>"
      ]
     },
     "metadata": {
      "needs_background": "light"
     },
     "output_type": "display_data"
    }
   ],
   "source": [
    "df.groupby('city').sum()['profit'].sort_values(ascending= False)[:10].plot(kind = 'bar',color = 'green' ,alpha = 0.6)\n",
    "plt.title ('Top 10 profitable cities')\n",
    "plt.xlabel('Cities')\n",
    "plt.ylabel('Profit');"
   ]
  },
  {
   "cell_type": "markdown",
   "id": "8b43ed56",
   "metadata": {},
   "source": [
    "- The most profitable city is New York"
   ]
  },
  {
   "cell_type": "code",
   "execution_count": 210,
   "id": "b5ff94be",
   "metadata": {},
   "outputs": [
    {
     "data": {
      "image/png": "[encoded data removed]",
      "text/plain": [
       "<Figure size 432x288 with 1 Axes>"
      ]
     },
     "metadata": {
      "needs_background": "light"
     },
     "output_type": "display_data"
    }
   ],
   "source": [
    "df.groupby('city').sum()['profit'].sort_values(ascending= True)[:10].plot(kind = 'bar',color = 'red' ,alpha = 0.6)\n",
    "plt.title ('The 10 lowest profit cities')\n",
    "plt.xlabel('Cities')\n",
    "plt.ylabel('Profit');"
   ]
  },
  {
   "cell_type": "markdown",
   "id": "11c2d7cd",
   "metadata": {},
   "source": [
    "- These are the weak cities where the company must work to make more profit."
   ]
  },
  {
   "cell_type": "code",
   "execution_count": 211,
   "id": "cd802bcf",
   "metadata": {},
   "outputs": [
    {
     "data": {
      "image/png": "[encoded data removed]",
      "text/plain": [
       "<Figure size 432x288 with 1 Axes>"
      ]
     },
     "metadata": {
      "needs_background": "light"
     },
     "output_type": "display_data"
    }
   ],
   "source": [
    "df.groupby('city').sum()['sales'].sort_values(ascending= False)[:10].plot(kind = 'bar',color = 'green' ,alpha = 0.6)\n",
    "plt.title ('Top 10 sales cities')\n",
    "plt.xlabel('Cities')\n",
    "plt.ylabel('Profit');"
   ]
  },
  {
   "cell_type": "markdown",
   "id": "b20819c8",
   "metadata": {},
   "source": [
    "- The most sales city is New York"
   ]
  },
  {
   "cell_type": "code",
   "execution_count": 215,
   "id": "b54efb3f",
   "metadata": {},
   "outputs": [
    {
     "data": {
      "image/png": "[encoded data removed]",
      "text/plain": [
       "<Figure size 432x288 with 1 Axes>"
      ]
     },
     "metadata": {
      "needs_background": "light"
     },
     "output_type": "display_data"
    }
   ],
   "source": [
    "df.groupby('city').sum()['sales'].sort_values(ascending= True)[:10].plot(kind = 'bar',color = 'red' ,alpha = 0.6)\n",
    "plt.title ('The 10 lowest sales cities')\n",
    "plt.xlabel('Cities')\n",
    "plt.ylabel('Profit');"
   ]
  },
  {
   "cell_type": "markdown",
   "id": "3e9577b0",
   "metadata": {},
   "source": [
    "- These are the weak cities for sales where the company must work to make more sales."
   ]
  },
  {
   "cell_type": "markdown",
   "id": "1a5dcd61",
   "metadata": {},
   "source": [
    "## Conclusions\n",
    "\n",
    "- The Highest State for sales and profit is California and New York is the second.\n",
    "- The Highest City for profit is New York and Los Angeles is the second. \n",
    "- The Highest Region for sales and profit is West Region.\n",
    "- The Lowest State for profit is Texas and for sales is New Dakota.\n",
    "- The Lowest City for profit is Philadelphia and for sales is Abilene\n",
    "- There are alot of states and cities need to be imporved but these are the lowest.\n",
    "- The Lowest Region profit is Central region and for sales is South region"
   ]
  }
 ],
 "metadata": {
  "kernelspec": {
   "display_name": "Python 3 (ipykernel)",
   "language": "python",
   "name": "python3"
  },
  "language_info": {
   "codemirror_mode": {
    "name": "ipython",
    "version": 3
   },
   "file_extension": ".py",
   "mimetype": "text/x-python",
   "name": "python",
   "nbconvert_exporter": "python",
   "pygments_lexer": "ipython3",
   "version": "3.9.7"
  }
 },
 "nbformat": 4,
 "nbformat_minor": 5
}
